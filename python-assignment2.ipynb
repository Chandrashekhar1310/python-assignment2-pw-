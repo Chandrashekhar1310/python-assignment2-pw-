{
 "cells": [
  {
   "cell_type": "markdown",
   "id": "83791192-b3be-4909-87e3-fd9728bfcb0d",
   "metadata": {},
   "source": [
    "Q1. Which keyword is used to create a function? Create a function to return a list of odd numbers in the\n",
    "range of 1 to 25."
   ]
  },
  {
   "cell_type": "markdown",
   "id": "3cf66925-937f-4a4c-bd36-581b372b17c5",
   "metadata": {},
   "source": [
    "def keyword is used to create a function."
   ]
  },
  {
   "cell_type": "code",
   "execution_count": 1,
   "id": "9c62fdb6-fcce-46a5-acaf-7a1c0fbddd76",
   "metadata": {},
   "outputs": [],
   "source": [
    "def odd():\n",
    "    L=[]\n",
    "    for i in range(26):\n",
    "        if i%2!=0:\n",
    "            L.append(i)\n",
    "    return L        "
   ]
  },
  {
   "cell_type": "code",
   "execution_count": 2,
   "id": "59027bb2-80be-444c-90c4-827f917509cf",
   "metadata": {},
   "outputs": [
    {
     "data": {
      "text/plain": [
       "[1, 3, 5, 7, 9, 11, 13, 15, 17, 19, 21, 23, 25]"
      ]
     },
     "execution_count": 2,
     "metadata": {},
     "output_type": "execute_result"
    }
   ],
   "source": [
    "odd()"
   ]
  },
  {
   "cell_type": "markdown",
   "id": "8e9e46ff-ce97-49e7-9290-748d96acd5c6",
   "metadata": {},
   "source": [
    "Q2. Why *args and **kwargs is used in some functions? Create a function each for *args and **kwargs\n",
    "to demonstrate their use."
   ]
  },
  {
   "cell_type": "markdown",
   "id": "39492299-0359-49bb-96a3-4c41a0dcce01",
   "metadata": {},
   "source": [
    "*args is used to pass a variable number of arguments to a function. It allows you to pass any number of arguments to a function, and those arguments are collected into a tuple.\n",
    "\n",
    "**kwargs is used to pass a variable number of keyword arguments to a function. It allows you to pass any number of keyword arguments to a function, and those arguments are collected into a dictionary."
   ]
  },
  {
   "cell_type": "code",
   "execution_count": 3,
   "id": "2a6bbab5-d65e-4683-bea1-36475d9685d2",
   "metadata": {},
   "outputs": [],
   "source": [
    "def test(*args):\n",
    "    return (args)"
   ]
  },
  {
   "cell_type": "code",
   "execution_count": 4,
   "id": "f8f78005-56c1-45be-9c3b-e794b2426530",
   "metadata": {},
   "outputs": [
    {
     "data": {
      "text/plain": [
       "(2, 2, 5, 5, 6)"
      ]
     },
     "execution_count": 4,
     "metadata": {},
     "output_type": "execute_result"
    }
   ],
   "source": [
    "test(2,2,5,5,6)"
   ]
  },
  {
   "cell_type": "code",
   "execution_count": 5,
   "id": "3423a7c2-42fb-431b-8716-13adc0dd89ca",
   "metadata": {},
   "outputs": [
    {
     "data": {
      "text/plain": [
       "tuple"
      ]
     },
     "execution_count": 5,
     "metadata": {},
     "output_type": "execute_result"
    }
   ],
   "source": [
    "type(test())"
   ]
  },
  {
   "cell_type": "code",
   "execution_count": 6,
   "id": "ecdf9883-f0ef-468e-98ee-e2dcf7ebce31",
   "metadata": {},
   "outputs": [],
   "source": [
    "def test1(**kwargs):\n",
    "    return kwargs\n",
    "    "
   ]
  },
  {
   "cell_type": "code",
   "execution_count": 7,
   "id": "b52412f9-c6e3-4d5b-a960-af42e507ded6",
   "metadata": {},
   "outputs": [
    {
     "data": {
      "text/plain": [
       "{'abc': 'mac', 'xyz': 'windows', 'a': [4, 3, 23], 'b': 44.22}"
      ]
     },
     "execution_count": 7,
     "metadata": {},
     "output_type": "execute_result"
    }
   ],
   "source": [
    "test1(abc='mac',xyz='windows', a=[4,3,23], b=44.22)"
   ]
  },
  {
   "cell_type": "code",
   "execution_count": 8,
   "id": "ba363544-85b9-4576-88ec-40c1d11a3c23",
   "metadata": {},
   "outputs": [
    {
     "data": {
      "text/plain": [
       "dict"
      ]
     },
     "execution_count": 8,
     "metadata": {},
     "output_type": "execute_result"
    }
   ],
   "source": [
    "type(test1())"
   ]
  },
  {
   "cell_type": "markdown",
   "id": "102b4fe6-9ec4-4700-b63d-b9cb8dc4f4ec",
   "metadata": {},
   "source": [
    "Q3. What is an iterator in python? Name the method used to initialise the iterator object and the method\n",
    "used for iteration. Use these methods to print the first five elements of the given list [2, 4, 6, 8, 10, 12, 14,\n",
    "16, 18, 20]."
   ]
  },
  {
   "cell_type": "markdown",
   "id": "43879b7e-30f0-4fc9-bf9e-ca2640801684",
   "metadata": {},
   "source": [
    "An iterator in Python is an object that enables iteration over a sequence of values, such as a list or tuple, or over a data structure, such as a dictionary or set.\n",
    "\n",
    "To initialize an iterator object in Python, we use the iter() method. This method takes a sequence as its argument and returns an iterator object.\n",
    "\n",
    "To iterate over the sequence, we use the next() method on the iterator object. This method returns the next value in the sequence each time it is called."
   ]
  },
  {
   "cell_type": "code",
   "execution_count": 9,
   "id": "b036d49f-5c13-463c-8f3d-cf5bf8abf704",
   "metadata": {},
   "outputs": [
    {
     "name": "stdout",
     "output_type": "stream",
     "text": [
      "2\n",
      "4\n",
      "6\n",
      "8\n",
      "10\n",
      "12\n",
      "14\n",
      "16\n",
      "18\n",
      "20\n"
     ]
    }
   ],
   "source": [
    "list = [2, 4, 6, 8, 10, 12, 14, 16, 18, 20]\n",
    "iterator = iter(list)\n",
    "\n",
    "for i in list:\n",
    "    print(next(iterator))"
   ]
  },
  {
   "cell_type": "markdown",
   "id": "f8083d2e-85f5-44f5-9873-823a807eda3a",
   "metadata": {},
   "source": [
    "Q4. What is a generator function in python? Why yield keyword is used? Give an example of a generator\n",
    "function."
   ]
  },
  {
   "cell_type": "markdown",
   "id": "31d0474e-abd5-431c-8bd9-0df5a35d34c1",
   "metadata": {},
   "source": [
    "A generator function in Python is a special type of function that generates a sequence of values using the yield keyword instead of the return keyword.\n",
    "When a generator function is called, it returns a generator object, which can be iterated over using the next() method or a for loop."
   ]
  },
  {
   "cell_type": "code",
   "execution_count": 10,
   "id": "04b35b7e-85d9-4159-bf47-eaff2b4f1369",
   "metadata": {},
   "outputs": [
    {
     "name": "stdout",
     "output_type": "stream",
     "text": [
      "0\n",
      "2\n",
      "4\n",
      "6\n",
      "8\n",
      "10\n",
      "12\n",
      "14\n",
      "16\n",
      "18\n"
     ]
    }
   ],
   "source": [
    "# genretor fun for n even number\n",
    "def even_numbers(n):\n",
    "    for i in range(n):\n",
    "        yield i * 2\n",
    "\n",
    "        \n",
    "# create generator object\n",
    "even = even_numbers(10)\n",
    "\n",
    "# iterate the function\n",
    "for i in even:\n",
    "    print(i)"
   ]
  },
  {
   "cell_type": "markdown",
   "id": "dfb06732-73e1-444e-993b-50571d5c22f6",
   "metadata": {},
   "source": [
    "Q5. Create a generator function for prime numbers less than 1000. Use the next() method to print the\n",
    "first 20 prime numbers."
   ]
  },
  {
   "cell_type": "code",
   "execution_count": 12,
   "id": "a847f60a-6e80-4037-8a24-2be8a092d28d",
   "metadata": {},
   "outputs": [],
   "source": [
    "def is_prime(num):\n",
    "    for i in range(2,num):\n",
    "        if num%i==0:\n",
    "            return False\n",
    "    return True"
   ]
  },
  {
   "cell_type": "code",
   "execution_count": 13,
   "id": "4213bf68-7aaa-4245-9964-df49af10fd87",
   "metadata": {},
   "outputs": [],
   "source": [
    "def prime_generator(n):\n",
    "    num=2\n",
    "    while n>0:\n",
    "        if is_prime(num):\n",
    "            yield num\n",
    "            n-=1\n",
    "        num+=1\n",
    "    return"
   ]
  },
  {
   "cell_type": "code",
   "execution_count": 15,
   "id": "6258d0c8-4e86-4bf2-8fc3-a0f124de0dc4",
   "metadata": {},
   "outputs": [
    {
     "name": "stdout",
     "output_type": "stream",
     "text": [
      "2\n",
      "3\n",
      "5\n",
      "7\n",
      "11\n",
      "13\n",
      "17\n",
      "19\n",
      "23\n",
      "29\n",
      "31\n",
      "37\n",
      "41\n",
      "43\n",
      "47\n",
      "53\n",
      "59\n",
      "61\n",
      "67\n",
      "71\n"
     ]
    }
   ],
   "source": [
    "prime = prime_generator(20)\n",
    "for j in prime:\n",
    "    print(j)"
   ]
  },
  {
   "cell_type": "markdown",
   "id": "7d652c56-594e-4b03-8f72-7a7eb6cafbf1",
   "metadata": {},
   "source": [
    "Q6. Write a python program to print the first 10 Fibonacci numbers using a while loop."
   ]
  },
  {
   "cell_type": "code",
   "execution_count": 8,
   "id": "3e413dc2-a747-4700-be7b-781def3292d5",
   "metadata": {},
   "outputs": [],
   "source": [
    "def test_fib():\n",
    "    a,b=0,1\n",
    "    while True:\n",
    "        yield a\n",
    "        a,b=b,a+b\n",
    "    "
   ]
  },
  {
   "cell_type": "code",
   "execution_count": 9,
   "id": "2139316e-e687-4865-b154-a37e045f5553",
   "metadata": {},
   "outputs": [],
   "source": [
    "fib=test_fib()"
   ]
  },
  {
   "cell_type": "code",
   "execution_count": 10,
   "id": "e8689bf4-9331-45c0-ac53-b3e02aa94809",
   "metadata": {},
   "outputs": [
    {
     "name": "stdout",
     "output_type": "stream",
     "text": [
      "0\n",
      "1\n",
      "1\n",
      "2\n",
      "3\n",
      "5\n",
      "8\n",
      "13\n",
      "21\n",
      "34\n"
     ]
    }
   ],
   "source": [
    "for i in range(10):\n",
    "    print(next(fib))"
   ]
  },
  {
   "cell_type": "markdown",
   "id": "0f772469-dcd8-45c9-a8c0-f6a67cbe3b17",
   "metadata": {},
   "source": [
    "Q7. Write a List Comprehension to iterate through the given string: ‘pwskills’.\n",
    "Expected output: ['p', 'w', 's', 'k', 'i', 'l', 'l', 's']"
   ]
  },
  {
   "cell_type": "code",
   "execution_count": 11,
   "id": "8a503ee8-8703-4f65-a14f-01917dbb9f5a",
   "metadata": {},
   "outputs": [],
   "source": [
    " string = 'pwskills'"
   ]
  },
  {
   "cell_type": "code",
   "execution_count": 16,
   "id": "762fd1de-dcdb-4e87-b5c7-be88e29195e7",
   "metadata": {},
   "outputs": [
    {
     "data": {
      "text/plain": [
       "['p', 'w', 's', 'k', 'i', 'l', 'l', 's']"
      ]
     },
     "execution_count": 16,
     "metadata": {},
     "output_type": "execute_result"
    }
   ],
   "source": [
    "[i for i in string]"
   ]
  },
  {
   "cell_type": "markdown",
   "id": "c8023a4a-8e48-4817-92c7-0cecc15b89ac",
   "metadata": {},
   "source": [
    "Q8. Write a python program to check whether a given number is Palindrome or not using a while loop."
   ]
  },
  {
   "cell_type": "code",
   "execution_count": 20,
   "id": "0e9a8485-10b2-44e5-a125-cbddfac1b780",
   "metadata": {},
   "outputs": [
    {
     "name": "stdin",
     "output_type": "stream",
     "text": [
      "enter num.. 556\n"
     ]
    },
    {
     "name": "stdout",
     "output_type": "stream",
     "text": [
      "number is not palindrome\n"
     ]
    }
   ],
   "source": [
    "num = int(input('enter num..'))\n",
    "original_num = num\n",
    "reverse_num = 0\n",
    "while num>0:\n",
    "    remainder = num%10\n",
    "    reverse_num = reverse_num*10 + remainder\n",
    "    num = num//10\n",
    "    \n",
    "if original_num==reverse_num:\n",
    "    print('number is palindrome')\n",
    "else:\n",
    "    print('number is not palindrome')"
   ]
  },
  {
   "cell_type": "markdown",
   "id": "ee1ad6ca-3003-4057-9566-448d9f0c45fd",
   "metadata": {},
   "source": [
    "Q9. Write a code to print odd numbers from 1 to 100 using list comprehension.\n",
    "Note: Use a list comprehension to create a list from 1 to 100 and use another List comprehension to filter\n",
    "out odd numbers."
   ]
  },
  {
   "cell_type": "code",
   "execution_count": 24,
   "id": "f13725b1-9904-40e8-ac8d-ae5669324202",
   "metadata": {},
   "outputs": [
    {
     "data": {
      "text/plain": [
       "[1,\n",
       " 3,\n",
       " 5,\n",
       " 7,\n",
       " 9,\n",
       " 11,\n",
       " 13,\n",
       " 15,\n",
       " 17,\n",
       " 19,\n",
       " 21,\n",
       " 23,\n",
       " 25,\n",
       " 27,\n",
       " 29,\n",
       " 31,\n",
       " 33,\n",
       " 35,\n",
       " 37,\n",
       " 39,\n",
       " 41,\n",
       " 43,\n",
       " 45,\n",
       " 47,\n",
       " 49,\n",
       " 51,\n",
       " 53,\n",
       " 55,\n",
       " 57,\n",
       " 59,\n",
       " 61,\n",
       " 63,\n",
       " 65,\n",
       " 67,\n",
       " 69,\n",
       " 71,\n",
       " 73,\n",
       " 75,\n",
       " 77,\n",
       " 79,\n",
       " 81,\n",
       " 83,\n",
       " 85,\n",
       " 87,\n",
       " 89,\n",
       " 91,\n",
       " 93,\n",
       " 95,\n",
       " 97,\n",
       " 99]"
      ]
     },
     "execution_count": 24,
     "metadata": {},
     "output_type": "execute_result"
    }
   ],
   "source": [
    "[i for i in range(101) if i%2!=0 ]"
   ]
  },
  {
   "cell_type": "code",
   "execution_count": 25,
   "id": "c17eefca-ed28-41b5-a5d6-ba1dde691892",
   "metadata": {},
   "outputs": [
    {
     "data": {
      "text/plain": [
       "[1,\n",
       " 3,\n",
       " 5,\n",
       " 7,\n",
       " 9,\n",
       " 11,\n",
       " 13,\n",
       " 15,\n",
       " 17,\n",
       " 19,\n",
       " 21,\n",
       " 23,\n",
       " 25,\n",
       " 27,\n",
       " 29,\n",
       " 31,\n",
       " 33,\n",
       " 35,\n",
       " 37,\n",
       " 39,\n",
       " 41,\n",
       " 43,\n",
       " 45,\n",
       " 47,\n",
       " 49,\n",
       " 51,\n",
       " 53,\n",
       " 55,\n",
       " 57,\n",
       " 59,\n",
       " 61,\n",
       " 63,\n",
       " 65,\n",
       " 67,\n",
       " 69,\n",
       " 71,\n",
       " 73,\n",
       " 75,\n",
       " 77,\n",
       " 79,\n",
       " 81,\n",
       " 83,\n",
       " 85,\n",
       " 87,\n",
       " 89,\n",
       " 91,\n",
       " 93,\n",
       " 95,\n",
       " 97,\n",
       " 99]"
      ]
     },
     "execution_count": 25,
     "metadata": {},
     "output_type": "execute_result"
    }
   ],
   "source": [
    "l=[]\n",
    "for i in range(101):\n",
    "    l.append(i)\n",
    "list(filter(lambda x:x%2!=0,l))"
   ]
  },
  {
   "cell_type": "code",
   "execution_count": null,
   "id": "76317ea6-c707-4a74-a4c6-ff1f9cb70521",
   "metadata": {},
   "outputs": [],
   "source": []
  }
 ],
 "metadata": {
  "kernelspec": {
   "display_name": "Python 3 (ipykernel)",
   "language": "python",
   "name": "python3"
  },
  "language_info": {
   "codemirror_mode": {
    "name": "ipython",
    "version": 3
   },
   "file_extension": ".py",
   "mimetype": "text/x-python",
   "name": "python",
   "nbconvert_exporter": "python",
   "pygments_lexer": "ipython3",
   "version": "3.10.8"
  }
 },
 "nbformat": 4,
 "nbformat_minor": 5
}
